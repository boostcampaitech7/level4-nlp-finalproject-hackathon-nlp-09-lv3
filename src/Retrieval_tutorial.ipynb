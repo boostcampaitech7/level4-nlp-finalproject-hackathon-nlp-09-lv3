{
 "cells": [
  {
   "cell_type": "code",
   "execution_count": 1,
   "metadata": {},
   "outputs": [
    {
     "data": {
      "text/html": [
       "<div>\n",
       "<style scoped>\n",
       "    .dataframe tbody tr th:only-of-type {\n",
       "        vertical-align: middle;\n",
       "    }\n",
       "\n",
       "    .dataframe tbody tr th {\n",
       "        vertical-align: top;\n",
       "    }\n",
       "\n",
       "    .dataframe thead th {\n",
       "        text-align: right;\n",
       "    }\n",
       "</style>\n",
       "<table border=\"1\" class=\"dataframe\">\n",
       "  <thead>\n",
       "    <tr style=\"text-align: right;\">\n",
       "      <th></th>\n",
       "      <th>id</th>\n",
       "      <th>type</th>\n",
       "      <th>image_route</th>\n",
       "      <th>dir_route</th>\n",
       "      <th>file_name</th>\n",
       "      <th>page</th>\n",
       "      <th>investment</th>\n",
       "      <th>company_name</th>\n",
       "      <th>table</th>\n",
       "      <th>summary</th>\n",
       "      <th>original_content</th>\n",
       "    </tr>\n",
       "  </thead>\n",
       "  <tbody>\n",
       "    <tr>\n",
       "      <th>3</th>\n",
       "      <td>12</td>\n",
       "      <td>paragraph</td>\n",
       "      <td>NaN</td>\n",
       "      <td>datas/CJ제일배당_교보증권(2024.11.13)</td>\n",
       "      <td>CJ제일배당_교보증권(2024.11.13).pdf</td>\n",
       "      <td>1</td>\n",
       "      <td>교보증권(2024.11.13)</td>\n",
       "      <td>CJ제일배당</td>\n",
       "      <td>NaN</td>\n",
       "      <td>CJ제일제당의 3분기 연결 매출액과 영업이익은 각각 4조 6,204억 원(YoY -...</td>\n",
       "      <td>대한통운을 제외한 3분기 연결 매출 및 영업이익은 각각 4조 6,204억원(YoY ...</td>\n",
       "    </tr>\n",
       "    <tr>\n",
       "      <th>4</th>\n",
       "      <td>13</td>\n",
       "      <td>paragraph</td>\n",
       "      <td>NaN</td>\n",
       "      <td>datas/CJ제일배당_교보증권(2024.11.13)</td>\n",
       "      <td>CJ제일배당_교보증권(2024.11.13).pdf</td>\n",
       "      <td>1</td>\n",
       "      <td>교보증권(2024.11.13)</td>\n",
       "      <td>CJ제일배당</td>\n",
       "      <td>NaN</td>\n",
       "      <td>CJ제일제당의 국내 식품 매출은 소비 둔화와 경쟁 심화로 인해 YoY -6%를 기록...</td>\n",
       "      <td>① 식품 매출 및 이익은 각각 4조 6,204억원(YoY -1.1%), 1,613억...</td>\n",
       "    </tr>\n",
       "    <tr>\n",
       "      <th>6</th>\n",
       "      <td>16</td>\n",
       "      <td>paragraph</td>\n",
       "      <td>NaN</td>\n",
       "      <td>datas/CJ제일배당_교보증권(2024.11.13)</td>\n",
       "      <td>CJ제일배당_교보증권(2024.11.13).pdf</td>\n",
       "      <td>1</td>\n",
       "      <td>교보증권(2024.11.13)</td>\n",
       "      <td>CJ제일배당</td>\n",
       "      <td>NaN</td>\n",
       "      <td>CJ제일제당의 목표주가를 41만원으로 하향 조정하며, 3분기 성수기 시즌임에도 불구...</td>\n",
       "      <td>CJ제일제당의 목표주가를 41만원으로 하향 조정. 3분기 성수기 시즌에도 불구하고 ...</td>\n",
       "    </tr>\n",
       "  </tbody>\n",
       "</table>\n",
       "</div>"
      ],
      "text/plain": [
       "   id       type image_route                                  dir_route  \\\n",
       "3  12  paragraph         NaN  datas/CJ제일배당_교보증권(2024.11.13)   \n",
       "4  13  paragraph         NaN  datas/CJ제일배당_교보증권(2024.11.13)   \n",
       "6  16  paragraph         NaN  datas/CJ제일배당_교보증권(2024.11.13)   \n",
       "\n",
       "                                 file_name  page              investment  \\\n",
       "3  CJ제일배당_교보증권(2024.11.13).pdf     1  교보증권(2024.11.13)   \n",
       "4  CJ제일배당_교보증권(2024.11.13).pdf     1  교보증권(2024.11.13)   \n",
       "6  CJ제일배당_교보증권(2024.11.13).pdf     1  교보증권(2024.11.13)   \n",
       "\n",
       "   company_name table                                            summary  \\\n",
       "3  CJ제일배당   NaN  CJ제일제당의 3분기 연결 매출액과 영업이익은 각각 4조 6,204억 원(YoY -...   \n",
       "4  CJ제일배당   NaN  CJ제일제당의 국내 식품 매출은 소비 둔화와 경쟁 심화로 인해 YoY -6%를 기록...   \n",
       "6  CJ제일배당   NaN  CJ제일제당의 목표주가를 41만원으로 하향 조정하며, 3분기 성수기 시즌임에도 불구...   \n",
       "\n",
       "                                    original_content  \n",
       "3  대한통운을 제외한 3분기 연결 매출 및 영업이익은 각각 4조 6,204억원(YoY ...  \n",
       "4  ① 식품 매출 및 이익은 각각 4조 6,204억원(YoY -1.1%), 1,613억...  \n",
       "6  CJ제일제당의 목표주가를 41만원으로 하향 조정. 3분기 성수기 시즌에도 불구하고 ...  "
      ]
     },
     "execution_count": 1,
     "metadata": {},
     "output_type": "execute_result"
    }
   ],
   "source": [
    "from DB.chromadb_storing import ChromaDB\n",
    "from langchain.schema import Document\n",
    "from utils import get_only_paragraphs, get_all_datas, create_documents\n",
    "BASE_DIR = '../../datas' # 데이터가 저장돼 있는 루트를 의미합니다.\n",
    "\n",
    "df = get_only_paragraphs(BASE_DIR)\n",
    "# df = get_all_datas(BASE_DIR) # 이미지와 테이블이 포함된 전체 데이터도 가져올 수 있습니다.\n",
    "df[:3]\n"
   ]
  },
  {
   "cell_type": "code",
   "execution_count": 2,
   "metadata": {},
   "outputs": [
    {
     "data": {
      "text/plain": [
       "[Document(metadata={'id': 12, 'type': 'paragraph', 'image_route': nan, 'dir_route': 'datas/CJ제일배당_교보증권(2024.11.13)', 'file_name': 'CJ제일배당_교보증권(2024.11.13).pdf', 'page': 1, 'investment': '교보증권(2024.11.13)', 'company_name': 'CJ제일배당', 'table': nan, 'original_content': '대한통운을 제외한 3분기 연결 매출 및 영업이익은 각각 4조 6,204억원(YoY -1%), 2,764 억원(YoY 0.4%) 시현. 연결 이익은 시장 기대치 부합했으나, 대통 제외시 시장 기대치 - 7% 하회. 식품 영업이익이 예상대비 부진했고(시장 컨센 YoY -10%대 Vs. 실제 -30% 대), 이를 바이오/F&C가 상쇄.'}, page_content='CJ제일제당의 3분기 연결 매출액과 영업이익은 각각 4조 6,204억 원(YoY -1%), 2,764억 원(YoY 0.4%)으로 발표됐다. 이는 전년 대비 소폭 감소한 수치이며, 식품 부문에서 영업이익이 예상보다 크게 하락했다.'),\n",
       " Document(metadata={'id': 13, 'type': 'paragraph', 'image_route': nan, 'dir_route': 'datas/CJ제일배당_교보증권(2024.11.13)', 'file_name': 'CJ제일배당_교보증권(2024.11.13).pdf', 'page': 1, 'investment': '교보증권(2024.11.13)', 'company_name': 'CJ제일배당', 'table': nan, 'original_content': '① 식품 매출 및 이익은 각각 4조 6,204억원(YoY -1.1%), 1,613억원(YoY -31%)을 시현. 국내 소비 둔화 영향 및 경쟁 심화에 따른 판촉비 집행 증가로 부진. 1)국내 식품 매출은 YoY -6% 시현(가공 +0.2%, 소재 -17%). 가공은 추석 선물세트 판매 부진 아쉬움. 소재 는 후방 산업 트렌드 변화(제로 슈거 확대) 및 유지 수익성 중심 경영으로 YoY -17% 시 현. 다만, 온라인 채널은 +17% 성장한 점 긍정적. 이익은 판촉비 증가/물량 감소 영향으로 부진. 2)해외 식품 YoY 5% 성장, 이익은 전년 수준 추산. 미주 매출은 원화기준 YoY 8% 시현. 미주 손익도 시장 경쟁강도 심화에 따른 판촉 확대로 부진. 유럽 +40%, 오세아니아 +24% 성장. 유럽에서 지역 커버리지 확대 및 입점 카테고리 확대. 오세아니아는 메인스트 림 입점 확대 중. ③ 바이오 매출 및 이익은 각각 1조 694억원(YoY 1%), 824억원(YoY 75%) 시현. 트립토판/알지닌/TNR 등 스페셜티 견조한 흐름 지속. 셀렉타도 시황 회복에 따라 흑자전환 후 수익성 유지 중. 한편, 라이신 등 대형 아미노산은 회복 지연되고 있으 나, 판가 반등 시그널 확인 긍정적. ④ Feed&Care 매출 및 이익은 각각 5,789억원(YoY - 5%), 327억원(YoY 흑전) 시현. 베트남 축산 비수기에도 불구하고 생산성 개선 등으로 제 조원가 절감. 사료도 사업 구조 개선 영향으로 수익성 유지.'}, page_content='CJ제일제당의 국내 식품 매출은 소비 둔화와 경쟁 심화로 인해 YoY -6%를 기록했고, 해외 식품은 YoY 5% 성장했다. 바이오 부문에서는 트립토판/알지닌/TNR 등 스페셜티 제품들이 견조한 흐름을 보였고,Feed&Care 부문의 매출은  베트남 축산 비수기로 인해 YoY -5%를 기록했지만 제조 원가 절감으로 이익은 흑자 전환했다.'),\n",
       " Document(metadata={'id': 16, 'type': 'paragraph', 'image_route': nan, 'dir_route': 'datas/CJ제일배당_교보증권(2024.11.13)', 'file_name': 'CJ제일배당_교보증권(2024.11.13).pdf', 'page': 1, 'investment': '교보증권(2024.11.13)', 'company_name': 'CJ제일배당', 'table': nan, 'original_content': 'CJ제일제당의 목표주가를 41만원으로 하향 조정. 3분기 성수기 시즌에도 불구하고 식품 이 익 YoY -31%은 아쉬움. 국내 식품이 내수 소비 둔화 및 경쟁 심화 상황이 이어지고 있음. 배달 할인 경쟁 심화 역시 가공식품 수요 감소에 부정적 영향. 국내 식품 수요가 단기간 회 복은 어렵다고 판단. 다만, 그 외 사업부는 순항 중. 바이오는 스페셜티 견조한 가운데, 대 형 아미노산 판가 반등 시그널 긍정적. F&C도 제조원가 절감 노력으로 수익성 바닥 통과 판단.'}, page_content='CJ제일제당의 목표주가를 41만원으로 하향 조정하며, 3분기 성수기 시즌임에도 불구하고 식품 이익이 전년대비 31% 감소했다. 배달 할인 경쟁 심화와 내수 소비 둔화 등으로 인해 단기간 내 회복은 어려울 것으로 전망된다. 그러나 바이오사업부는 스페셜티 제품 호조와 대형 아미노산 판가 반등 신호로 긍정적이며, F&C 사업부도 제조원가 절감 노력으로 수익성이 개선되고 있다.')]"
      ]
     },
     "execution_count": 2,
     "metadata": {},
     "output_type": "execute_result"
    }
   ],
   "source": [
    "# 데이터프레임의 행들을 각각 Document타입으로 바꾼 뒤, 리스트에 담습니다.\n",
    "documents = create_documents(df)\n",
    "documents[:3]"
   ]
  },
  {
   "cell_type": "code",
   "execution_count": 3,
   "metadata": {},
   "outputs": [],
   "source": [
    "# add_docs를 통해 문서들을 저장합니다.\n",
    "\n",
    "collection_name = 'chrdb.db'\n",
    "DB = ChromaDB(collection_name)\n",
    "DB.add_docs(documents)\n",
    "\n"
   ]
  },
  {
   "cell_type": "code",
   "execution_count": 4,
   "metadata": {},
   "outputs": [
    {
     "name": "stdout",
     "output_type": "stream",
     "text": [
      "Total documents in collection 'chrdb.db': 388\n"
     ]
    }
   ],
   "source": [
    "# verify_db를 통해 db내의 데이터 수를 확인할 수 있고, db객체를 받을 수 있습니다.\n",
    "db = DB.verify_db()\n"
   ]
  },
  {
   "cell_type": "code",
   "execution_count": 5,
   "metadata": {},
   "outputs": [],
   "source": [
    "# 데이터 저장\n",
    "# DB.save_collection()"
   ]
  },
  {
   "cell_type": "code",
   "execution_count": 6,
   "metadata": {},
   "outputs": [],
   "source": [
    "# 데이터 로드\n",
    "# DB.load_collection()"
   ]
  },
  {
   "cell_type": "code",
   "execution_count": 7,
   "metadata": {},
   "outputs": [],
   "source": [
    "# 위처럼 import하여 kiwi tokenizer을 사용하는 bm25와 dpr, 앙상블 리트리버를 생성할 수 있습니다.\n",
    "from retrievals import bm25, dpr, ensemble\n",
    "\n",
    "topk = 3\n",
    "\n",
    "DPRRetriever = dpr(db, topk = 3)\n",
    "BM25Retriever = bm25(documents, topk = 3)\n",
    "\n",
    "retrievals = [DPRRetriever, BM25Retriever]\n",
    "weights = [0.5, 0.5]\n",
    "search_type = 'mmr'\n",
    "ensemble_retriever = ensemble(retrievals, topk = topk, weights = weights, search_type = search_type)\n",
    "\n"
   ]
  },
  {
   "cell_type": "code",
   "execution_count": 8,
   "metadata": {},
   "outputs": [
    {
     "data": {
      "text/plain": [
       "[Document(metadata={'company_name': '네이버', 'dir_route': 'datas/네이버_하나증권(2024.10.10)', 'file_name': '네이버_하나증권(2024.10.10).pdf', 'id': 19, 'investment': '하나증권(2024.10.10)', 'original_content': '네이버는 2024년 연결 기준 영업수익 10조 5,184억원(+8.8%YoY), 영업이익 1조 8,994억원 (+27.6%YoY, OPM 18.1%)을 기록할 것으로 전망한다. 서치플랫폼 매출액은 3조 8,546억원 (+7.4%YoY)으로 추정한다. DA 광고 지면 증가 효과는 4분기까지 높은 성장률로 확인될 전 망이다. 커머스 매출액은 2조 9,045억원(+14.1%YoY)으로 전망한다. 네이버는 연내 모바일 쇼핑 탭을 네이버플러스 스토어로 개편할 계획이다. 스마트/브랜드스토어를 중심으로한 개 인화 추천, UI/UX 개선이 도입될 예정이다. 성장 둔화를 겪고 있는 커머스 광고 매출과 커 머스 GMV의 반등을 기대한다.', 'page': 1, 'type': 'paragraph'}, page_content='네이버는 2024년 연결 기준 영업수익 10조 5,184억원, 영업이익 1조 8,994억원을 기록할 것으로 전망하며, 특히 쇼핑 탭을 네이버플러스 스토어로 개편하여 개인화 추천 및 UI/UX 개선을 통해 커머스 광고 매출과 GMV의 반등을 기대함.'),\n",
       " Document(metadata={'company_name': '네이버', 'dir_route': 'datas/네이버_하나증권(2024.10.10)', 'file_name': '네이버_하나증권(2024.10.10).pdf', 'id': 45, 'investment': '하나증권(2024.10.10)', 'original_content': '주: 2Q21 왓패드 인수, 4Q21 이북재팬 인수, 4Q22 순매출>총매출 회계처리 변경 영향 자료: 네이버, 하나증권', 'page': 3, 'type': 'paragraph'}, page_content='네이버의 2021년 2분기 매출액은 전년동기 대비 30.4% 증가한 1조 6,635억원이며 영업이익은 8,362억원으로 전년동기 대비 16.2% 감소했다. 이는 21년 2분기에 있었던 왓패드와 이북 재팬 인수 및 22년 4분기부터 적용된 순매출 > 총매출 회계 처리 방식 변경 때문이다.'),\n",
       " Document(metadata={'company_name': '네이버', 'dir_route': 'datas/네이버_교보증권(2024.11.11)', 'file_name': '네이버_교보증권(2024.11.11).pdf', 'id': 13, 'investment': '교보증권(2024.11.11)', 'original_content': '투자의견 매수, 목표주가 254,000원 유지. 개인화 앱 개편(네이버앱 메인 일평균 체류시간 YoY +10% 이상 성장, 클립 재생수 연초 대비 +81)영향이 서치플랫폼 성장률 가속화로 이어지고 있으며, 자체 경쟁력 강화에 따른 이러한 성장 추세는 타겟팅 고도화와 피드 영 역 확대로 2025년에도 서치플랫폼 매출 성장(SA +8%, DA +11% 전망)을 견인 예상. 2025 년 모바일 영역에 통합된 ‘AI 브리핑’ 도입으로 사용성 더욱 개선 예상. 한편 이커머스 시 장 재편 하 1) 네이버 플러스스토어 출시(10월말), 2) 물류 고도화(당일 배송 강화, 셀러 창 고를 통한 도착보장 도입), 3) 멤버십 혜택 강화(멤버십 대상 도착보장 무료 배송/반품, 넷 플릭스 연동 및 프로모션 강화) 등을 통해 2025년 커머스 GMV +10.3% 성장 전망.', 'page': 1, 'type': 'paragraph'}, page_content=\"네이버는 개인화 앱 개편 영향으로 서치 플랫폼 성장률이 가속화되고 있으며, 자체 경쟁력 강화로 인한 성장 추세는 계속될 것으로 예상된다. 또한 'AI 브리핑' 도입으로 사용성이 개선되며, 다양한 전략을 통해 2025년 커머스 GMV 10.3% 성장을 전망한다.\")]"
      ]
     },
     "execution_count": 8,
     "metadata": {},
     "output_type": "execute_result"
    }
   ],
   "source": [
    "# 다음과 같이 retriever.invoke(query)를 통해 관련 문서를 검색할 수 있습니다.\n",
    "query = '네이버의 2024년 매출을 알려줘.'\n",
    "\n",
    "DPRRetriever.invoke(query)"
   ]
  },
  {
   "cell_type": "code",
   "execution_count": 9,
   "metadata": {},
   "outputs": [
    {
     "data": {
      "text/plain": [
       "[Document(metadata={'id': 19, 'type': 'paragraph', 'image_route': nan, 'dir_route': 'datas/네이버_하나증권(2024.10.10)', 'file_name': '네이버_하나증권(2024.10.10).pdf', 'page': 1, 'investment': '하나증권(2024.10.10)', 'company_name': '네이버', 'table': nan, 'original_content': '네이버는 2024년 연결 기준 영업수익 10조 5,184억원(+8.8%YoY), 영업이익 1조 8,994억원 (+27.6%YoY, OPM 18.1%)을 기록할 것으로 전망한다. 서치플랫폼 매출액은 3조 8,546억원 (+7.4%YoY)으로 추정한다. DA 광고 지면 증가 효과는 4분기까지 높은 성장률로 확인될 전 망이다. 커머스 매출액은 2조 9,045억원(+14.1%YoY)으로 전망한다. 네이버는 연내 모바일 쇼핑 탭을 네이버플러스 스토어로 개편할 계획이다. 스마트/브랜드스토어를 중심으로한 개 인화 추천, UI/UX 개선이 도입될 예정이다. 성장 둔화를 겪고 있는 커머스 광고 매출과 커 머스 GMV의 반등을 기대한다.'}, page_content='네이버는 2024년 연결 기준 영업수익 10조 5,184억원, 영업이익 1조 8,994억원을 기록할 것으로 전망하며, 특히 쇼핑 탭을 네이버플러스 스토어로 개편하여 개인화 추천 및 UI/UX 개선을 통해 커머스 광고 매출과 GMV의 반등을 기대함.'),\n",
       " Document(metadata={'id': 11, 'type': 'paragraph', 'image_route': nan, 'dir_route': 'datas/롯데렌탈_하나증권(2024.09.20)', 'file_name': '롯데렌탈_하나증권(2024.09.20).pdf', 'page': 2, 'investment': '하나증권(2024.09.20)', 'company_name': '롯데렌탈', 'table': nan, 'original_content': '도 표 1. 2024년 9월 19일 기준 쏘카 주주 구성 및 지분율'}, page_content='도표 1에서는 2024년 9월 19일을 기준으로 한 쏘카의 주주 구성과 지분율을 보여줍니다.'),\n",
       " Document(metadata={'id': 7, 'type': 'paragraph', 'image_route': nan, 'dir_route': 'datas/네이버_교보증권(2024.11.11)', 'file_name': '네이버_교보증권(2024.11.11).pdf', 'page': 1, 'investment': '교보증권(2024.11.11)', 'company_name': '네이버', 'table': nan, 'original_content': '매출 2.72조원(YoY +11.1%)로 컨센서스(2.62조원) 부합, 영익은 5,253억원(+38.2%) 기록 해 시장예상치(4,865억원) 상회. 서치플랫폼(YoY +11.0%) 중 DA는 피드 지면 확대 및 타 게팅 고도화로 +11.0%, SA는 플레이스광고 성장, 상품 개선 및 외부 매체 상품 확대로 +9.5% 성장. 커머스 매출(YoY +12.0%)은 중개/판매 중심 성장. 도착보장/브랜드솔루션 사용률 증가와 브랜드스토어 거래액 성장으로 On-Platform 거래액(+10.0%) 증가보다 중 개/판매 매출 크게(+24.6%) 증가. 핀테크 결제액은 외부결제(+37.7%), 주문/예약 및 현장 결제 확대 따른 오프라인(YoY +78%) 성장으로 18.6조원(+22.1%) 달성, 핀테크 매출 +13.0% 성장. 컨텐츠 매출은 유료 컨텐츠 및 광고 매출 증대로 웹툰 매출 4,240억원 (+11.6%, 동일환율 기준 +13.5%) 기록한 가운데 스노우(-46.5%, 네이버제트 제외 영향 제거시 YoY +9.0%)에서 네이버제트 연결 제외되며 +6.4%. 클라우드 매출은 라인웍스 유 료 ID수 확대, 뉴로클라우드 및 사우디 주택부 디지털트윈 매출 발생으로 YoY +17.0%.'}, page_content='교보증권은 네이버의 3분기 실적 발표에서 매출 2.72조 원(YoY +11.1%), 영익 5,253억 원(+38.2%)을 기록하며 시장 예상치를 상회했다고 밝혔다. 특히, 이번 분기에는 콘텐츠 매출이 유료 콘텐츠 및 광고 매출 증대 등으로 인해 큰 폭으로 상승했으며, 클라우드 매출도 높은 성장세를 보였다.')]"
      ]
     },
     "execution_count": 9,
     "metadata": {},
     "output_type": "execute_result"
    }
   ],
   "source": [
    "BM25Retriever.invoke(query)"
   ]
  },
  {
   "cell_type": "code",
   "execution_count": 10,
   "metadata": {},
   "outputs": [
    {
     "data": {
      "text/plain": [
       "[Document(metadata={'company_name': '네이버', 'dir_route': 'datas/네이버_하나증권(2024.10.10)', 'file_name': '네이버_하나증권(2024.10.10).pdf', 'id': 19, 'investment': '하나증권(2024.10.10)', 'original_content': '네이버는 2024년 연결 기준 영업수익 10조 5,184억원(+8.8%YoY), 영업이익 1조 8,994억원 (+27.6%YoY, OPM 18.1%)을 기록할 것으로 전망한다. 서치플랫폼 매출액은 3조 8,546억원 (+7.4%YoY)으로 추정한다. DA 광고 지면 증가 효과는 4분기까지 높은 성장률로 확인될 전 망이다. 커머스 매출액은 2조 9,045억원(+14.1%YoY)으로 전망한다. 네이버는 연내 모바일 쇼핑 탭을 네이버플러스 스토어로 개편할 계획이다. 스마트/브랜드스토어를 중심으로한 개 인화 추천, UI/UX 개선이 도입될 예정이다. 성장 둔화를 겪고 있는 커머스 광고 매출과 커 머스 GMV의 반등을 기대한다.', 'page': 1, 'type': 'paragraph'}, page_content='네이버는 2024년 연결 기준 영업수익 10조 5,184억원, 영업이익 1조 8,994억원을 기록할 것으로 전망하며, 특히 쇼핑 탭을 네이버플러스 스토어로 개편하여 개인화 추천 및 UI/UX 개선을 통해 커머스 광고 매출과 GMV의 반등을 기대함.'),\n",
       " Document(metadata={'company_name': '네이버', 'dir_route': 'datas/네이버_하나증권(2024.10.10)', 'file_name': '네이버_하나증권(2024.10.10).pdf', 'id': 45, 'investment': '하나증권(2024.10.10)', 'original_content': '주: 2Q21 왓패드 인수, 4Q21 이북재팬 인수, 4Q22 순매출>총매출 회계처리 변경 영향 자료: 네이버, 하나증권', 'page': 3, 'type': 'paragraph'}, page_content='네이버의 2021년 2분기 매출액은 전년동기 대비 30.4% 증가한 1조 6,635억원이며 영업이익은 8,362억원으로 전년동기 대비 16.2% 감소했다. 이는 21년 2분기에 있었던 왓패드와 이북 재팬 인수 및 22년 4분기부터 적용된 순매출 > 총매출 회계 처리 방식 변경 때문이다.'),\n",
       " Document(metadata={'id': 11, 'type': 'paragraph', 'image_route': nan, 'dir_route': 'datas/롯데렌탈_하나증권(2024.09.20)', 'file_name': '롯데렌탈_하나증권(2024.09.20).pdf', 'page': 2, 'investment': '하나증권(2024.09.20)', 'company_name': '롯데렌탈', 'table': nan, 'original_content': '도 표 1. 2024년 9월 19일 기준 쏘카 주주 구성 및 지분율'}, page_content='도표 1에서는 2024년 9월 19일을 기준으로 한 쏘카의 주주 구성과 지분율을 보여줍니다.'),\n",
       " Document(metadata={'company_name': '네이버', 'dir_route': 'datas/네이버_교보증권(2024.11.11)', 'file_name': '네이버_교보증권(2024.11.11).pdf', 'id': 13, 'investment': '교보증권(2024.11.11)', 'original_content': '투자의견 매수, 목표주가 254,000원 유지. 개인화 앱 개편(네이버앱 메인 일평균 체류시간 YoY +10% 이상 성장, 클립 재생수 연초 대비 +81)영향이 서치플랫폼 성장률 가속화로 이어지고 있으며, 자체 경쟁력 강화에 따른 이러한 성장 추세는 타겟팅 고도화와 피드 영 역 확대로 2025년에도 서치플랫폼 매출 성장(SA +8%, DA +11% 전망)을 견인 예상. 2025 년 모바일 영역에 통합된 ‘AI 브리핑’ 도입으로 사용성 더욱 개선 예상. 한편 이커머스 시 장 재편 하 1) 네이버 플러스스토어 출시(10월말), 2) 물류 고도화(당일 배송 강화, 셀러 창 고를 통한 도착보장 도입), 3) 멤버십 혜택 강화(멤버십 대상 도착보장 무료 배송/반품, 넷 플릭스 연동 및 프로모션 강화) 등을 통해 2025년 커머스 GMV +10.3% 성장 전망.', 'page': 1, 'type': 'paragraph'}, page_content=\"네이버는 개인화 앱 개편 영향으로 서치 플랫폼 성장률이 가속화되고 있으며, 자체 경쟁력 강화로 인한 성장 추세는 계속될 것으로 예상된다. 또한 'AI 브리핑' 도입으로 사용성이 개선되며, 다양한 전략을 통해 2025년 커머스 GMV 10.3% 성장을 전망한다.\"),\n",
       " Document(metadata={'id': 7, 'type': 'paragraph', 'image_route': nan, 'dir_route': 'datas/네이버_교보증권(2024.11.11)', 'file_name': '네이버_교보증권(2024.11.11).pdf', 'page': 1, 'investment': '교보증권(2024.11.11)', 'company_name': '네이버', 'table': nan, 'original_content': '매출 2.72조원(YoY +11.1%)로 컨센서스(2.62조원) 부합, 영익은 5,253억원(+38.2%) 기록 해 시장예상치(4,865억원) 상회. 서치플랫폼(YoY +11.0%) 중 DA는 피드 지면 확대 및 타 게팅 고도화로 +11.0%, SA는 플레이스광고 성장, 상품 개선 및 외부 매체 상품 확대로 +9.5% 성장. 커머스 매출(YoY +12.0%)은 중개/판매 중심 성장. 도착보장/브랜드솔루션 사용률 증가와 브랜드스토어 거래액 성장으로 On-Platform 거래액(+10.0%) 증가보다 중 개/판매 매출 크게(+24.6%) 증가. 핀테크 결제액은 외부결제(+37.7%), 주문/예약 및 현장 결제 확대 따른 오프라인(YoY +78%) 성장으로 18.6조원(+22.1%) 달성, 핀테크 매출 +13.0% 성장. 컨텐츠 매출은 유료 컨텐츠 및 광고 매출 증대로 웹툰 매출 4,240억원 (+11.6%, 동일환율 기준 +13.5%) 기록한 가운데 스노우(-46.5%, 네이버제트 제외 영향 제거시 YoY +9.0%)에서 네이버제트 연결 제외되며 +6.4%. 클라우드 매출은 라인웍스 유 료 ID수 확대, 뉴로클라우드 및 사우디 주택부 디지털트윈 매출 발생으로 YoY +17.0%.'}, page_content='교보증권은 네이버의 3분기 실적 발표에서 매출 2.72조 원(YoY +11.1%), 영익 5,253억 원(+38.2%)을 기록하며 시장 예상치를 상회했다고 밝혔다. 특히, 이번 분기에는 콘텐츠 매출이 유료 콘텐츠 및 광고 매출 증대 등으로 인해 큰 폭으로 상승했으며, 클라우드 매출도 높은 성장세를 보였다.')]"
      ]
     },
     "execution_count": 10,
     "metadata": {},
     "output_type": "execute_result"
    }
   ],
   "source": [
    "# 어째서인지 Ensemble retrieval은 topk가 먹질 않습니다.. ㅋㅋ\n",
    "ensemble_retriever.invoke(query)"
   ]
  },
  {
   "cell_type": "code",
   "execution_count": 11,
   "metadata": {},
   "outputs": [],
   "source": [
    "class WeightedRetriever:\n",
    "    def __init__(self, dpr_weight=0.6, bm25_weight=0.4, top_k=2):\n",
    "        # 가중치와 top_k 값을 초기화\n",
    "        self.dpr_weight = dpr_weight\n",
    "        self.bm25_weight = bm25_weight\n",
    "        self.top_k = top_k\n",
    "\n",
    "    def get_weighted_results(self, DPR_result, BM25_result):\n",
    "        # 가중치를 적용한 결과를 저장할 딕셔너리 초기화 (ID를 키로 사용)\n",
    "        weighted_results = {}\n",
    "\n",
    "        # DPR 결과에 가중치 적용\n",
    "        for doc in DPR_result:\n",
    "            doc_id = doc.metadata['id']  # 문서의 id 추출\n",
    "            score = self.dpr_weight  # DPR에 가중치 부여\n",
    "\n",
    "            # 문서가 이미 존재하면 score를 합산, 아니면 새로 추가\n",
    "            if doc_id in weighted_results:\n",
    "                weighted_results[doc_id]['score'] += score\n",
    "            else:\n",
    "                weighted_results[doc_id] = {\n",
    "                    'metadata': doc.metadata,\n",
    "                    'score': score,  # 새로 추가된 score\n",
    "                    'page_content': doc.page_content\n",
    "                }\n",
    "\n",
    "        # BM25 결과에 가중치 적용\n",
    "        for doc in BM25_result:\n",
    "            doc_id = doc.metadata['id']  # 문서의 id 추출\n",
    "            score = self.bm25_weight  # BM25에 가중치 부여\n",
    "\n",
    "            # 문서가 이미 존재하면 score를 합산, 아니면 새로 추가\n",
    "            if doc_id in weighted_results:\n",
    "                weighted_results[doc_id]['score'] += score\n",
    "            else:\n",
    "                weighted_results[doc_id] = {\n",
    "                    'metadata': doc.metadata,\n",
    "                    'score': score,  # 새로 추가된 score\n",
    "                    'page_content': doc.page_content\n",
    "                }\n",
    "\n",
    "        # weighted_results에서 문서를 리스트로 변환하여 점수 기준으로 내림차순 정렬\n",
    "        sorted_results = sorted(weighted_results.values(), key=lambda x: x['score'], reverse=True)\n",
    "\n",
    "        # top_k 문서 선택\n",
    "        top_k_documents = sorted_results[:self.top_k]\n",
    "\n",
    "        return top_k_documents\n",
    "\n",
    "    def display_results(self, DPR_result, BM25_result):\n",
    "        top_k_documents = self.get_weighted_results(DPR_result, BM25_result)\n",
    "\n",
    "        # 결과 출력\n",
    "        for doc in top_k_documents:\n",
    "            print(f\"ID: {doc['metadata']['id']}, Score: {doc['score']:.4f}\")\n",
    "            print(f\"Content: {doc['page_content']}\\n\")\n"
   ]
  },
  {
   "cell_type": "code",
   "execution_count": 13,
   "metadata": {},
   "outputs": [
    {
     "name": "stdout",
     "output_type": "stream",
     "text": [
      "ID: 19, Score: 1.0000\n",
      "Content: 네이버는 2024년 연결 기준 영업수익 10조 5,184억원, 영업이익 1조 8,994억원을 기록할 것으로 전망하며, 특히 쇼핑 탭을 네이버플러스 스토어로 개편하여 개인화 추천 및 UI/UX 개선을 통해 커머스 광고 매출과 GMV의 반등을 기대함.\n",
      "\n",
      "ID: 45, Score: 0.6000\n",
      "Content: 네이버의 2021년 2분기 매출액은 전년동기 대비 30.4% 증가한 1조 6,635억원이며 영업이익은 8,362억원으로 전년동기 대비 16.2% 감소했다. 이는 21년 2분기에 있었던 왓패드와 이북 재팬 인수 및 22년 4분기부터 적용된 순매출 > 총매출 회계 처리 방식 변경 때문이다.\n",
      "\n",
      "ID: 13, Score: 0.6000\n",
      "Content: 네이버는 개인화 앱 개편 영향으로 서치 플랫폼 성장률이 가속화되고 있으며, 자체 경쟁력 강화로 인한 성장 추세는 계속될 것으로 예상된다. 또한 'AI 브리핑' 도입으로 사용성이 개선되며, 다양한 전략을 통해 2025년 커머스 GMV 10.3% 성장을 전망한다.\n",
      "\n"
     ]
    }
   ],
   "source": [
    "dpr_weight = 0.6\n",
    "bm25_weight = 0.4\n",
    "top_k = 3\n",
    "\n",
    "# 인스턴스 생성\n",
    "weighted_retriever = WeightedRetriever(dpr_weight=dpr_weight, bm25_weight=bm25_weight, top_k=top_k)\n",
    "\n",
    "# query에 대해 DPR과 BM25 결과를 가져옴 (예시)\n",
    "DPR_result = DPRRetriever.invoke(query)\n",
    "BM25_result = BM25Retriever.invoke(query)\n",
    "\n",
    "# 결과 출력\n",
    "weighted_retriever.display_results(DPR_result, BM25_result)\n"
   ]
  },
  {
   "cell_type": "code",
   "execution_count": 14,
   "metadata": {},
   "outputs": [
    {
     "name": "stdout",
     "output_type": "stream",
     "text": [
      "acc: 0.8577\n"
     ]
    }
   ],
   "source": [
    "from evaluation import retrieval_evaluate\n",
    "import pandas as pd\n",
    "eval_dataset = pd.read_csv('../../qa_validation_dataset_3_cleaning_2.csv')\n",
    "\n",
    "# retrieval과 evaldataset을 통해 acc를 평가해볼 수 있습니다.\n",
    "retrieval_evaluate(retrieval=DPRRetriever, eval_dataset = eval_dataset)"
   ]
  },
  {
   "cell_type": "code",
   "execution_count": 27,
   "metadata": {},
   "outputs": [],
   "source": [
    "def weighted_retrieval_evaluate(weighted_retriever, eval_dataset):\n",
    "    total = len(eval_dataset)\n",
    "    answer = 0\n",
    "    for i, row in eval_dataset.iterrows():\n",
    "        question = row['question']\n",
    "        context = row['context']\n",
    "        \n",
    "        # weighted_retriever로 검색 결과 얻기\n",
    "        retrieval_results = weighted_retriever.get_weighted_results(DPR_result=DPRRetriever.invoke(question), BM25_result=BM25Retriever.invoke(question))\n",
    "        \n",
    "        # 검색된 문서에서 내용만 추출하여 평가\n",
    "        docs = [doc['metadata']['original_content'] for doc in retrieval_results]\n",
    "        \n",
    "        # context가 검색된 문서에 포함되어 있으면 정답\n",
    "        if context in docs:\n",
    "            answer += 1\n",
    "    \n",
    "    print('acc:', round(answer / total, 4))\n"
   ]
  },
  {
   "cell_type": "code",
   "execution_count": 28,
   "metadata": {},
   "outputs": [
    {
     "name": "stdout",
     "output_type": "stream",
     "text": [
      "acc: 0.8577\n"
     ]
    }
   ],
   "source": [
    "weighted_retrieval_evaluate(weighted_retriever=weighted_retriever, eval_dataset=eval_dataset)"
   ]
  }
 ],
 "metadata": {
  "kernelspec": {
   "display_name": "database",
   "language": "python",
   "name": "python3"
  },
  "language_info": {
   "codemirror_mode": {
    "name": "ipython",
    "version": 3
   },
   "file_extension": ".py",
   "mimetype": "text/x-python",
   "name": "python",
   "nbconvert_exporter": "python",
   "pygments_lexer": "ipython3",
   "version": "3.10.16"
  }
 },
 "nbformat": 4,
 "nbformat_minor": 2
}
